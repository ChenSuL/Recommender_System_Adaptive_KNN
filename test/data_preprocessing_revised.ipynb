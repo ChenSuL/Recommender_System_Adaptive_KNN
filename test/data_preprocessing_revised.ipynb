{
 "cells": [
  {
   "cell_type": "code",
   "execution_count": 1,
   "metadata": {},
   "outputs": [
    {
     "name": "stdout",
     "output_type": "stream",
     "text": [
      "Reading data...\n",
      "Done.\n",
      "{'reviewerID': 'A32YO5J15JKGP5', 'asin': 'B001HHWFEY', 'reviewerName': 'Mark A. Valadez', 'helpful': [0, 0], 'unixReviewTime': 1240617600, 'reviewText': 'i like this combo pack it was cheaper than buying it seperate 3months free of xbox live 60gb harddrive and a live headset and ethernet cord for 99$ thats pretty cheap for this if ur wondering to buy it just buy it its a good buy.', 'overall': 5.0, 'reviewTime': '04 25, 2009', 'summary': 'Xbox live 60gb starter pack.'} 1176171\n"
     ]
    }
   ],
   "source": [
    "import numpy\n",
    "from urllib import urlopen\n",
    "import scipy.optimize\n",
    "import random\n",
    "from math import exp\n",
    "from math import log\n",
    "import random\n",
    "import gzip\n",
    "from sklearn import svm\n",
    "from sklearn.decomposition import PCA\n",
    "from collections import defaultdict\n",
    "from collections import Counter\n",
    "\n",
    "\n",
    "def readGz(f):\n",
    "\tfor l in gzip.open(f):\n",
    "\t\tyield eval(l)\n",
    "\n",
    "print \"Reading data...\"\n",
    "meta = defaultdict(dict)\n",
    "for l in readGz('meta_Video_Games.json.gz'):\n",
    "\tif 'price' in l and 'salesRank' in l and l['salesRank']:\n",
    "\t\tmeta[l['asin']] = l\n",
    "\t\t\n",
    "data = []\n",
    "for l in readGz('reviews_Video_Games.json.gz'):\n",
    "\tif l['asin'] in meta:\n",
    "\t\tdata.append(l)\n",
    "random.shuffle(data)\n",
    "print \"Done.\"\n",
    "print data[0],len(data)\n"
   ]
  },
  {
   "cell_type": "code",
   "execution_count": 2,
   "metadata": {},
   "outputs": [
    {
     "name": "stdout",
     "output_type": "stream",
     "text": [
      "len(itemMoreThan20) =  10253\n",
      "len(userMoreThan4) =  28479\n"
     ]
    }
   ],
   "source": [
    "itemList = [l['asin'] for l in data]\n",
    "\n",
    "itemTimesDict = dict(Counter(itemList))\n",
    "itemMoreThan20 = set([item for item in itemTimesDict if itemTimesDict[item] > 20])\n",
    "#len(itemMoreThan20) = 10253\n",
    "print \"len(itemMoreThan20) = \", len(itemMoreThan20)\n",
    "\n",
    "userList = [l['reviewerID'] for l in data]\n",
    "userTimesDict = dict(Counter(userList))\n",
    "userMoreThan4 = set([user for user in userTimesDict if userTimesDict[user] > 4])\n",
    "#len(userMoreThan4) = 28479\n",
    "print \"len(userMoreThan4) = \", len(userMoreThan4)"
   ]
  },
  {
   "cell_type": "code",
   "execution_count": 3,
   "metadata": {},
   "outputs": [
    {
     "name": "stdout",
     "output_type": "stream",
     "text": [
      "len(dataMoreThan20And4) =  229384\n",
      "len(meta) =  42458\n"
     ]
    }
   ],
   "source": [
    "data = [l for l in data if l['reviewerID'] in userMoreThan4 and l['asin'] in itemMoreThan20]\n",
    "#len(dataMoreThan20And4) = 229384\n",
    "print \"len(dataMoreThan20And4) = \", len(data)\n",
    "\n",
    "meta_copy = defaultdict(dict)\n",
    "[l for l in meta.keys() if l in itemMoreThan20]\n",
    "for l in meta.keys():\n",
    "\tmeta_copy[l] = meta[l]\n",
    "print \"len(meta) = \", len(meta_copy)"
   ]
  },
  {
   "cell_type": "code",
   "execution_count": 4,
   "metadata": {},
   "outputs": [],
   "source": [
    "import json\n",
    "with open('data.json', 'w') as outfile:\n",
    "    json.dump(data, outfile)"
   ]
  },
  {
   "cell_type": "code",
   "execution_count": 5,
   "metadata": {
    "collapsed": true
   },
   "outputs": [],
   "source": [
    "with open('meta.json', 'w') as outfile:\n",
    "    json.dump(meta, outfile)"
   ]
  }
 ],
 "metadata": {
  "kernelspec": {
   "display_name": "Python 2",
   "language": "python",
   "name": "python2"
  },
  "language_info": {
   "codemirror_mode": {
    "name": "ipython",
    "version": 2
   },
   "file_extension": ".py",
   "mimetype": "text/x-python",
   "name": "python",
   "nbconvert_exporter": "python",
   "pygments_lexer": "ipython2",
   "version": "2.7.13"
  }
 },
 "nbformat": 4,
 "nbformat_minor": 2
}
