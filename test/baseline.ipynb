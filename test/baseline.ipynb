{
 "cells": [
  {
   "cell_type": "code",
   "execution_count": 47,
   "metadata": {
    "collapsed": true
   },
   "outputs": [],
   "source": [
    "import scipy.optimize\n",
    "import random\n",
    "from math import exp\n",
    "from math import log\n",
    "from collections import defaultdict\n",
    "import gzip\n",
    "import numpy as np\n",
    "\n",
    "def readGz(f):\n",
    "    for l in gzip.open(f):\n",
    "        yield eval(l)\n",
    "\n",
    "meta = defaultdict(dict)\n",
    "for l in readGz('meta_Video_Games.json.gz'):\n",
    "    if 'price' in l and 'salesRank' in l and l['salesRank']:\n",
    "        meta[l['asin']] = l\n",
    "        \n",
    "data = []\n",
    "for l in readGz('reviews_Video_Games.json.gz'):\n",
    "    if l['asin'] in meta:\n",
    "        data.append(l)\n",
    "random.shuffle(data)"
   ]
  },
  {
   "cell_type": "code",
   "execution_count": 69,
   "metadata": {},
   "outputs": [
    {
     "data": {
      "text/plain": [
       "{'asin': 'B000O5FTIY',\n",
       " 'helpful': [0, 1],\n",
       " 'overall': 5.0,\n",
       " 'reviewText': 'but this is another she cant stop playing....so i guess that has to mean something...she lets me play every once in a blue moon...',\n",
       " 'reviewTime': '02 21, 2010',\n",
       " 'reviewerID': 'A21WVMM3FA60QO',\n",
       " 'reviewerName': 'Heather Martin',\n",
       " 'summary': 'Gifted game again....',\n",
       " 'unixReviewTime': 1266710400}"
      ]
     },
     "execution_count": 69,
     "metadata": {},
     "output_type": "execute_result"
    }
   ],
   "source": [
    "data[0]"
   ]
  },
  {
   "cell_type": "code",
   "execution_count": null,
   "metadata": {
    "collapsed": true,
    "scrolled": true
   },
   "outputs": [],
   "source": [
    "s = set()\n",
    "for l in meta:\n",
    "    s |= set(meta[l]['categories'][0])\n",
    "len(s),s"
   ]
  },
  {
   "cell_type": "code",
   "execution_count": 66,
   "metadata": {},
   "outputs": [
    {
     "name": "stdout",
     "output_type": "stream",
     "text": [
      "MSE 1.86391769229\n",
      "MAE 1.10660946433\n"
     ]
    }
   ],
   "source": [
    "length = len(data)\n",
    "platforms = ['VGA', 'PC', 'Linux', 'Mac', 'Nintendo', 'PlayStation', 'Sony PSP', 'Wii', 'Xbox']\n",
    "def feature(datum):\n",
    "    l = meta[datum['asin']]\n",
    "    feat = [1] + [any([1 for c in l['categories'][0] if c.startswith(p)]) for p in platforms]\n",
    "    feat += [l['price']/10.0, l['salesRank'].values()[0]]\n",
    "    return feat\n",
    "\n",
    "X = [feature(d) for d in data]\n",
    "y = [d['overall'] for d in data]\n",
    "X_train = X[:length*6/10]\n",
    "y_train = y[:length*6/10]\n",
    "X_test = X[length*6/10:length*8/10]\n",
    "y_test = y[length*6/10:length*8/10]\n",
    "\n",
    "theta,residuals,rank,s = np.linalg.lstsq(X, y)\n",
    "\n",
    "MSE = [(np.dot(theta,X_test[i])-y_test[i])**2 for i in xrange(len(X_test))]\n",
    "MSE = sum(MSE)/len(MSE)\n",
    "print 'MSE',MSE\n",
    "\n",
    "MAE = [abs(np.dot(theta,X_test[i])-y_test[i]) for i in xrange(len(X_test))]\n",
    "MAE = sum(MAE)/len(MAE)\n",
    "print 'MAE', MAE"
   ]
  },
  {
   "cell_type": "code",
   "execution_count": 67,
   "metadata": {},
   "outputs": [
    {
     "data": {
      "text/plain": [
       "array([  4.03230190e+00,  -1.00008011e+00,  -4.21752024e-01,\n",
       "        -2.35457948e-02,  -5.13116241e-01,   1.77030849e-01,\n",
       "         3.03055887e-02,   2.74934858e-02,  -3.73751565e-02,\n",
       "        -6.06404019e-02,   9.57353770e-03,  -4.44710549e-06])"
      ]
     },
     "execution_count": 67,
     "metadata": {},
     "output_type": "execute_result"
    }
   ],
   "source": [
    "theta"
   ]
  },
  {
   "cell_type": "code",
   "execution_count": 15,
   "metadata": {},
   "outputs": [],
   "source": [
    "from bpr_knn import KNN"
   ]
  },
  {
   "cell_type": "code",
   "execution_count": 19,
   "metadata": {},
   "outputs": [],
   "source": [
    "a = KNN(5,3)"
   ]
  },
  {
   "cell_type": "code",
   "execution_count": 26,
   "metadata": {},
   "outputs": [
    {
     "name": "stderr",
     "output_type": "stream",
     "text": [
      "WARNING: Batch size is greater than number of training samples, switching to a batch size of 1\n",
      "Generating 300 random training samples\n",
      "Processed 299 ( 99.667% ) in 0.2 seconds\n",
      "Total training time 0.22 seconds; 1386.67 samples per second\n"
     ]
    }
   ],
   "source": [
    "a.train([(1,1)],epochs=300, batchSize=10)"
   ]
  },
  {
   "cell_type": "code",
   "execution_count": 30,
   "metadata": {},
   "outputs": [
    {
     "data": {
      "text/plain": [
       "[0, 0, 0]"
      ]
     },
     "execution_count": 30,
     "metadata": {},
     "output_type": "execute_result"
    }
   ],
   "source": [
    "a.predictionsKNN(1,2)"
   ]
  },
  {
   "cell_type": "code",
   "execution_count": null,
   "metadata": {
    "collapsed": true
   },
   "outputs": [],
   "source": []
  }
 ],
 "metadata": {
  "kernelspec": {
   "display_name": "Python 2",
   "language": "python",
   "name": "python2"
  },
  "language_info": {
   "codemirror_mode": {
    "name": "ipython",
    "version": 2
   },
   "file_extension": ".py",
   "mimetype": "text/x-python",
   "name": "python",
   "nbconvert_exporter": "python",
   "pygments_lexer": "ipython2",
   "version": "2.7.13"
  }
 },
 "nbformat": 4,
 "nbformat_minor": 2
}
