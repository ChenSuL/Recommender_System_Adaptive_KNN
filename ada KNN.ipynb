{
 "cells": [
  {
   "cell_type": "code",
   "execution_count": 1,
   "metadata": {},
   "outputs": [],
   "source": [
    "import scipy.optimize\n",
    "import random\n",
    "from math import exp\n",
    "from math import log\n",
    "from collections import defaultdict\n",
    "import gzip\n",
    "import numpy as np\n",
    "import time\n",
    "import sys\n",
    "\n",
    "def readGz(f):\n",
    "    for l in gzip.open(f):\n",
    "        yield eval(l)\n",
    "\n",
    "data = []\n",
    "for l in readGz('train.json.gz'):\n",
    "    data.append(l)\n",
    "random.shuffle(data)"
   ]
  },
  {
   "cell_type": "code",
   "execution_count": 2,
   "metadata": {},
   "outputs": [],
   "source": [
    "class KNN(object):\n",
    "\n",
    "    def __init__(self, numUsers, numItems, lamI = 6e-2, lamJ = 6e-3, learningRate = 0.1):\n",
    "        self._numUsers = numUsers\n",
    "        self._numItems = numItems\n",
    "        self._lamI = lamI\n",
    "        self._lamJ = lamJ\n",
    "        self._learningRate = learningRate\n",
    "        self._users = set()\n",
    "        self._items = set()\n",
    "        self._Iu = defaultdict(set)\n",
    "        \n",
    "        \n",
    "    def sigmoid(self, x):\n",
    "        return 1/(1+np.exp(-x))\n",
    "\n",
    "    def train(self, trainData, epochs=30, batchSize=500):\n",
    "        \n",
    "        # correlation matrix\n",
    "        self.C =np.random.rand(self._numItems, self._numItems)  \n",
    "        for l in xrange(self._numItems):\n",
    "            self.C[l][l] = 0\n",
    "            for n in xrange(l, self._numItems):\n",
    "                self.C[l][n] = self.C[n][l]\n",
    "              \n",
    "        # change batch_size to min(batch-size, len(train))\n",
    "        if len(trainData) < batchSize:\n",
    "            sys.stderr.write(\"WARNING: Batch size is greater than number of training samples, switching to a batch size of %s\\n\" % str(len(trainData)))\n",
    "            batchSize = len(trainData)\n",
    "                  \n",
    "        self._trainDict, self._users, self._items = self._dataPretreatment(trainData)\n",
    "        N = len(trainData) * epochs\n",
    "        users, pItems, nItems = self._sampling(N)\n",
    "        itr = 0\n",
    "        t2 = t0 = time.time()\n",
    "        while (itr+1)*batchSize < N:\n",
    "      \n",
    "            self._mbgd(\n",
    "                users[itr*batchSize: (itr+1)*batchSize],\n",
    "                pItems[itr*batchSize: (itr+1)*batchSize],\n",
    "                nItems[itr*batchSize: (itr+1)*batchSize]\n",
    "            )\n",
    "            \n",
    "            itr += 1\n",
    "            t2 = time.time()\n",
    "            sys.stderr.write(\"\\rProcessed %s ( %.3f%% ) in %.1f seconds\" %(str(itr*batchSize), 100.0 * float(itr*batchSize)/N, t2 - t0))\n",
    "            sys.stderr.flush()\n",
    "        if N > 0:\n",
    "            sys.stderr.write(\"\\nTotal training time %.2f seconds; %.2f samples per second\\n\" % (t2 - t0, N*1.0/(t2 - t0)))\n",
    "            sys.stderr.flush()\n",
    "            \n",
    "            \n",
    "    def _mbgd(self, users, pItems, nItems):\n",
    "        \n",
    "        prev = -2**10\n",
    "        for _ in xrange(30):\n",
    "            \n",
    "            gradientC = defaultdict(float)\n",
    "            obj = 0\n",
    "\n",
    "            for ind in xrange(len(users)):\n",
    "                u, i, j = users[ind], pItems[ind], nItems[ind]\n",
    "                x_ui = sum([self.C[i][l] for l in self._Iu[u] if i != l])\n",
    "                x_uj = sum([self.C[j][l] for l in self._Iu[u]])\n",
    "                x_uij =  x_ui - x_uj\n",
    "                \n",
    "                for l in self._Iu[u]:\n",
    "                    if l != i:\n",
    "                        gradientC[(i,l)] += (1-self.sigmoid(x_uij)) + self._lamI * self.C[i][l]**2\n",
    "                        gradientC[(l,i)] += (1-self.sigmoid(x_uij)) + self._lamI * self.C[l][i]**2\n",
    "                    gradientC[(j,l)] += -(1-self.sigmoid(x_uij)) + self._lamJ * self.C[j][l]**2\n",
    "                    gradientC[(l,j)] += -(1-self.sigmoid(x_uij)) + self._lamJ * self.C[l][j]**2\n",
    "                    \n",
    "                    obj -= 2*self._lamI * self.C[i][l]**2 + 2*self._lamJ * self.C[j][l]**2\n",
    "                    \n",
    "                obj += log(self.sigmoid(x_uij))\n",
    "            \n",
    "            #print 'OBJ: ', obj\n",
    "            if prev > obj: \n",
    "                break\n",
    "            prev = obj\n",
    "            \n",
    "            for a,b in gradientC:\n",
    "                self.C[a][b] += self._learningRate * gradientC[(a,b)]\n",
    "            \n",
    "        #print _, '\\n'\n",
    "        \n",
    "    def _sampling(self, N):\n",
    "        \n",
    "        sys.stderr.write(\"Generating %s random training samples\\n\" % str(N))\n",
    "        userList = list(self._users)\n",
    "        userIndex = np.random.randint(0, len(self._users), N)\n",
    "        pItems, nItems = [], []\n",
    "        cnt = 0\n",
    "        for index in userIndex:\n",
    "            u = userList[index]\n",
    "            i = self._trainDict[u][np.random.randint(len(self._Iu[u]))]\n",
    "            pItems.append(i)\n",
    "            j = np.random.randint(self._numItems)\n",
    "            while j in self._Iu[u]:\n",
    "                j = np.random.randint(self._numItems)\n",
    "            nItems.append(j)\n",
    "            \n",
    "            cnt += 1\n",
    "            if not cnt %10000:\n",
    "                sys.stderr.write(\"\\rGenerated %s\" %(str(cnt)))\n",
    "                sys.stderr.flush()\n",
    "        return userIndex, pItems, nItems\n",
    "\n",
    "    def predictionsKNN(self, K, u):\n",
    "        #slow\n",
    "        if K >= self._Iu[u]:\n",
    "            res = np.sum([self.C[:,l] for l in self._Iu[u]], 0)\n",
    "        else:\n",
    "            res = []\n",
    "            for i in xrange(self._numItems):\n",
    "                res.append(sum(sorted([self.C[i][l] for l in self._Iu[u]], reverse=True)[:K]))\n",
    "        return res\n",
    "\n",
    "    def predictionsAll(self, u):\n",
    "        \n",
    "        res = np.sum([self.C[:,l] for l in self._Iu[u]], 0)\n",
    "        return res\n",
    "\n",
    "    def prediction(self, u, i):\n",
    "        \n",
    "        scores = self.predictions(u)\n",
    "        return scores[i] > sorted(scores)[self._numItem*0.8]\n",
    "\n",
    "    def _dataPretreatment(self, data):\n",
    "        dataDict = defaultdict(list)\n",
    "        items = set()\n",
    "        for u, i in data:\n",
    "            self._Iu[u].add(i)\n",
    "            dataDict[u].append(i)\n",
    "            items.add(i)\n",
    "        return dataDict, set(dataDict.keys()), items"
   ]
  },
  {
   "cell_type": "code",
   "execution_count": 3,
   "metadata": {
    "collapsed": true
   },
   "outputs": [],
   "source": [
    "length = len(data)\n",
    "users = set()\n",
    "items = set()\n",
    "visited = set()\n",
    "businessCount = defaultdict(int)\n",
    "\n",
    "for l in data[:length]:\n",
    "    user,business = l['userID'],l['businessID']\n",
    "    users.add(user)  \n",
    "    items.add(business)\n",
    "    visited.add((user, business))  #visited pair\n",
    "    businessCount[business] += 1\n",
    "    \n",
    "mostPopular = [(businessCount[x], x) for x in businessCount]\n",
    "mostPopular.sort()\n",
    "mostPopular.reverse()\n",
    "\n",
    "return1 = set()\n",
    "count = 0\n",
    "for ic, i in mostPopular:\n",
    "    count += ic\n",
    "    return1.add(i)\n",
    "    if count*1.0/length > 0.571: \n",
    "        break\n",
    "\n",
    "users = list(users)\n",
    "items = list(items)\n",
    "Iu = defaultdict(set)\n",
    "Ui = defaultdict(set)\n",
    "for l in data[:length]:\n",
    "    Iu[l['userID']].add(l['businessID'])\n",
    "    Ui[l['businessID']].add(l['userID'])\n",
    "    \n",
    "users = {value:key for key, value in enumerate(users)}\n",
    "items = {value:key for key, value in enumerate(items)}"
   ]
  },
  {
   "cell_type": "code",
   "execution_count": 4,
   "metadata": {
    "scrolled": true
   },
   "outputs": [
    {
     "name": "stderr",
     "output_type": "stream",
     "text": [
      "Generating 400000 random training samples\n",
      "Generated 400000"
     ]
    },
    {
     "name": "stdout",
     "output_type": "stream",
     "text": [
      "OBJ:  -714.082881515\n",
      "OBJ:  -468.384842843\n",
      "OBJ:  -391.671572317\n",
      "OBJ:  -351.099722502\n",
      "OBJ:  -327.150577218\n",
      "OBJ:  -312.116722227\n",
      "OBJ:  -302.373538446\n",
      "OBJ:  -295.976460405\n",
      "OBJ:  "
     ]
    },
    {
     "name": "stderr",
     "output_type": "stream",
     "text": [
      "\r",
      "Processed 500 ( 0.125% ) in 1.6 seconds"
     ]
    },
    {
     "name": "stdout",
     "output_type": "stream",
     "text": [
      "-291.80315476\n",
      "OBJ:  -289.169868832\n",
      "OBJ:  -287.640893566\n",
      "OBJ:  -286.927760733\n",
      "OBJ:  -286.833161225\n",
      "OBJ:  -287.218336557\n",
      "13 \n",
      "\n",
      "OBJ:  -668.410453935\n",
      "OBJ:  -444.003951036\n",
      "OBJ:  -359.352568517\n",
      "OBJ:  -314.944098242"
     ]
    },
    {
     "name": "stderr",
     "output_type": "stream",
     "text": [
      "\r",
      "Processed 1000 ( 0.250% ) in 2.9 seconds"
     ]
    },
    {
     "name": "stdout",
     "output_type": "stream",
     "text": [
      "\n",
      "OBJ:  -288.838263517\n",
      "OBJ:  -272.404876317\n",
      "OBJ:  -261.630551634\n",
      "OBJ:  -254.404298503\n",
      "OBJ:  -249.525142659\n",
      "OBJ:  -246.267206199\n",
      "OBJ:  -244.169787664\n",
      "OBJ:  -242.928485129\n",
      "OBJ:  -242.335302281\n",
      "OBJ:  -242.244032625\n",
      "OBJ:  -242.54939527\n",
      "14 \n",
      "\n",
      "OBJ:  -712.313241301\n",
      "OBJ:  -460.292409492\n",
      "OBJ:  -375.308153065\n",
      "OBJ:  -332.102394055\n"
     ]
    },
    {
     "name": "stderr",
     "output_type": "stream",
     "text": [
      "\r",
      "Processed 1500 ( 0.375% ) in 4.3 seconds"
     ]
    },
    {
     "name": "stdout",
     "output_type": "stream",
     "text": [
      "OBJ:  -307.085623416\n",
      "OBJ:  -291.561739827\n",
      "OBJ:  -281.530469577\n",
      "OBJ:  -274.918838182\n",
      "OBJ:  -270.558670303\n",
      "OBJ:  -267.748375961\n",
      "OBJ:  -266.04467188\n",
      "OBJ:  -265.155638438\n",
      "OBJ:  -264.882312161\n",
      "OBJ:  -265.085111075\n",
      "13 \n",
      "\n",
      "OBJ:  -723.039065288\n",
      "OBJ:  -473.349994958\n",
      "OBJ:  -392.169837437\n"
     ]
    },
    {
     "name": "stderr",
     "output_type": "stream",
     "text": [
      "\r",
      "Processed 2000 ( 0.500% ) in 5.9 seconds"
     ]
    },
    {
     "name": "stdout",
     "output_type": "stream",
     "text": [
      "OBJ:  -349.022883654\n",
      "OBJ:  -323.820100127\n",
      "OBJ:  -308.305900126\n",
      "OBJ:  -298.379634076\n",
      "OBJ:  -291.904973525\n",
      "OBJ:  -287.689676606\n",
      "OBJ:  -285.024529337\n",
      "OBJ:  -283.46463751\n",
      "OBJ:  -282.718443816\n",
      "OBJ:  -282.58785169\n",
      "OBJ:  -282.934155909\n",
      "13 \n",
      "\n",
      "OBJ:  -675.603812991\n",
      "OBJ:  -444.027694074\n",
      "OBJ:  -367.63578217\n",
      "OBJ:  "
     ]
    },
    {
     "name": "stderr",
     "output_type": "stream",
     "text": [
      "\r",
      "Processed 2500 ( 0.625% ) in 7.4 seconds"
     ]
    },
    {
     "name": "stdout",
     "output_type": "stream",
     "text": [
      "-328.645657584\n",
      "OBJ:  -305.788277798\n",
      "OBJ:  -291.503041594\n",
      "OBJ:  -282.261772768\n",
      "OBJ:  -276.20309901\n",
      "OBJ:  -272.26206341\n",
      "OBJ:  -269.790826998\n",
      "OBJ:  -268.375812516\n",
      "OBJ:  -267.742464913\n",
      "OBJ:  -267.702514524\n",
      "OBJ:  -268.123288739\n",
      "13 \n",
      "\n",
      "OBJ:  -679.855976447\n",
      "OBJ:  -443.998090015\n",
      "OBJ:  -369.106210963\n",
      "OBJ:  -329.810594399\n",
      "OBJ:  -306.546003607"
     ]
    },
    {
     "name": "stderr",
     "output_type": "stream",
     "text": [
      "\r",
      "Processed 3000 ( 0.750% ) in 8.7 seconds"
     ]
    },
    {
     "name": "stdout",
     "output_type": "stream",
     "text": [
      "\n",
      "OBJ:  -291.947333342\n",
      "OBJ:  -282.460856302\n",
      "OBJ:  -276.194766555\n",
      "OBJ:  -272.067360693\n",
      "OBJ:  -269.422734418\n",
      "OBJ:  -267.843394195\n",
      "OBJ:  -267.052725374\n",
      "OBJ:  -266.861228057\n",
      "OBJ:  -267.135380404\n",
      "13 \n",
      "\n",
      "OBJ:  -636.10988695\n",
      "OBJ:  -431.825569975\n",
      "OBJ:  -354.365435601\n",
      "OBJ:  -315.248139274\n"
     ]
    },
    {
     "name": "stderr",
     "output_type": "stream",
     "text": [
      "\r",
      "Processed 3500 ( 0.875% ) in 10.0 seconds"
     ]
    },
    {
     "name": "stdout",
     "output_type": "stream",
     "text": [
      "OBJ:  -292.688755225\n",
      "OBJ:  -278.631915581\n",
      "OBJ:  -269.462752852\n",
      "OBJ:  -263.349623183\n",
      "OBJ:  -259.268968644\n",
      "OBJ:  -256.605203842\n",
      "OBJ:  -254.966794328\n",
      "OBJ:  -254.093536199\n",
      "OBJ:  -253.806290982\n",
      "OBJ:  -253.978105579\n",
      "13 \n",
      "\n",
      "OBJ:  -721.153086855\n",
      "OBJ:  -482.404589257\n",
      "OBJ:  -400.459566224\n",
      "OBJ: "
     ]
    },
    {
     "name": "stderr",
     "output_type": "stream",
     "text": [
      "\r",
      "Processed 4000 ( 1.000% ) in 11.6 seconds"
     ]
    },
    {
     "name": "stdout",
     "output_type": "stream",
     "text": [
      " -359.209768733\n",
      "OBJ:  -335.602703982\n",
      "OBJ:  -321.157397759\n",
      "OBJ:  -311.958780088\n",
      "OBJ:  -306.002194032\n",
      "OBJ:  -302.17360696\n",
      "OBJ:  -299.810468247\n",
      "OBJ:  -298.496424764\n",
      "OBJ:  -297.957901202\n",
      "OBJ:  -298.008469566\n",
      "12 \n",
      "\n",
      "OBJ:  -689.134417231\n",
      "OBJ:  -460.6529214\n",
      "OBJ:  -384.1727043\n",
      "OBJ:  "
     ]
    },
    {
     "name": "stderr",
     "output_type": "stream",
     "text": [
      "\r",
      "Processed 4500 ( 1.125% ) in 13.2 seconds"
     ]
    },
    {
     "name": "stdout",
     "output_type": "stream",
     "text": [
      "-345.666852618\n",
      "OBJ:  -323.457379511\n",
      "OBJ:  -309.695239132\n",
      "OBJ:  -300.833715111\n",
      "OBJ:  -295.041825806\n",
      "OBJ:  -291.28527677\n",
      "OBJ:  -288.940179715\n",
      "OBJ:  -287.610443301\n",
      "OBJ:  -287.033948892\n",
      "OBJ:  -287.031184147\n",
      "OBJ:  -287.475628909\n",
      "13 \n",
      "\n",
      "OBJ:  -656.849147214\n",
      "OBJ:  -436.894460307\n",
      "OBJ:  -358.047998156\n",
      "OBJ:  -319.070425529\n",
      "OBJ:  -296.48863923\n",
      "OBJ:  -282.461713275\n",
      "OBJ:  -273.406185411\n",
      "OBJ:  -267.462042146\n"
     ]
    },
    {
     "name": "stderr",
     "output_type": "stream",
     "text": [
      "\r",
      "Processed 5000 ( 1.250% ) in 14.5 seconds"
     ]
    },
    {
     "name": "stdout",
     "output_type": "stream",
     "text": [
      "OBJ:  -263.578744733\n",
      "OBJ:  -261.123536734\n",
      "OBJ:  -259.695152368\n",
      "OBJ:  -259.028187473\n",
      "OBJ:  -258.940889137\n",
      "OBJ:  -259.305132192\n",
      "13 \n",
      "\n",
      "OBJ:  -648.330328012\n",
      "OBJ:  -447.943548082\n",
      "OBJ:  "
     ]
    },
    {
     "name": "stderr",
     "output_type": "stream",
     "text": [
      "\r",
      "Processed 5500 ( 1.375% ) in 15.9 seconds"
     ]
    },
    {
     "name": "stdout",
     "output_type": "stream",
     "text": [
      "-377.616797902\n",
      "OBJ:  -341.43071857\n",
      "OBJ:  -320.109722158\n",
      "OBJ:  -306.758280252\n",
      "OBJ:  -298.104109243\n",
      "OBJ:  -292.419528672\n",
      "OBJ:  -288.719383146\n",
      "OBJ:  -286.405584267\n",
      "OBJ:  -285.095989777\n",
      "OBJ:  -284.536068196\n",
      "OBJ:  -284.550408552\n",
      "12 \n",
      "\n",
      "OBJ:  -682.525201412\n",
      "OBJ:  -457.434229095\n",
      "OBJ:  -379.837614635\n",
      "OBJ:  -341.542889221\n",
      "OBJ:  "
     ]
    },
    {
     "name": "stderr",
     "output_type": "stream",
     "text": [
      "\r",
      "Processed 6000 ( 1.500% ) in 17.3 seconds"
     ]
    },
    {
     "name": "stdout",
     "output_type": "stream",
     "text": [
      "-319.797219683\n",
      "OBJ:  -306.525956568\n",
      "OBJ:  -298.084552856\n",
      "OBJ:  -292.632076818\n",
      "OBJ:  -289.149659553\n",
      "OBJ:  -287.030943588\n",
      "OBJ:  -285.893913561\n",
      "OBJ:  -285.486732696\n",
      "OBJ:  -285.637187005\n",
      "12 \n",
      "\n",
      "OBJ:  -619.981393004\n",
      "OBJ:  -421.752233064\n",
      "OBJ:  -351.465108934\n",
      "OBJ:  "
     ]
    },
    {
     "name": "stderr",
     "output_type": "stream",
     "text": [
      "\r",
      "Processed 6500 ( 1.625% ) in 18.7 seconds"
     ]
    },
    {
     "name": "stdout",
     "output_type": "stream",
     "text": [
      "-314.795438272\n",
      "OBJ:  -293.410676174\n",
      "OBJ:  -280.089810512\n",
      "OBJ:  -271.465292808\n",
      "OBJ:  -265.78732121\n",
      "OBJ:  -262.066610743\n",
      "OBJ:  -259.706068042\n",
      "OBJ:  -258.326219777\n",
      "OBJ:  -257.675620918\n",
      "OBJ:  -257.58183356\n",
      "OBJ:  -257.923156426\n",
      "13 \n",
      "\n",
      "OBJ:  -608.489867225\n",
      "OBJ:  -419.4590677\n",
      "OBJ:  -350.934642978\n",
      "OBJ:  -315.167039898\n"
     ]
    },
    {
     "name": "stderr",
     "output_type": "stream",
     "text": [
      "\r",
      "Processed 7000 ( 1.750% ) in 20.1 seconds"
     ]
    },
    {
     "name": "stdout",
     "output_type": "stream",
     "text": [
      "OBJ:  -294.106932796\n",
      "OBJ:  -280.960287504\n",
      "OBJ:  -272.489526082\n",
      "OBJ:  -266.970136208\n",
      "OBJ:  -263.413820927\n",
      "OBJ:  -261.220705829\n",
      "OBJ:  -260.00884038\n",
      "OBJ:  -259.525081813\n",
      "OBJ:  -259.595922023\n",
      "12 \n",
      "\n",
      "OBJ:  -670.149726596\n",
      "OBJ:  -449.660417842\n",
      "OBJ:  -378.713485975\n",
      "OBJ:  -343.791736111\n",
      "OBJ:  -323.977541944\n",
      "OBJ:  -311.833168939\n",
      "OBJ:  -304.109466519\n",
      "OBJ:  -299.15308709\n",
      "OBJ:  -296.036267666\n",
      "OBJ:  "
     ]
    },
    {
     "name": "stderr",
     "output_type": "stream",
     "text": [
      "\r",
      "Processed 7500 ( 1.875% ) in 21.7 seconds"
     ]
    },
    {
     "name": "stdout",
     "output_type": "stream",
     "text": [
      "-294.200653085\n",
      "OBJ:  -293.291587332\n",
      "OBJ:  -293.073886031\n",
      "OBJ:  -293.38602292\n",
      "12 \n",
      "\n",
      "OBJ:  -640.249018972\n",
      "OBJ:  -441.125420842\n",
      "OBJ:  -370.572530703"
     ]
    },
    {
     "name": "stderr",
     "output_type": "stream",
     "text": [
      "\r",
      "Processed 8000 ( 2.000% ) in 23.1 seconds"
     ]
    },
    {
     "name": "stdout",
     "output_type": "stream",
     "text": [
      "\n",
      "OBJ:  -333.62628836\n",
      "OBJ:  -311.924860789\n",
      "OBJ:  -298.360828389\n",
      "OBJ:  -289.588143737\n",
      "OBJ:  -283.842864286\n",
      "OBJ:  -280.117342855\n",
      "OBJ:  -277.799217494\n",
      "OBJ:  -276.497464022\n",
      "OBJ:  -275.952102117\n",
      "OBJ:  -275.98440671\n",
      "12 \n",
      "\n",
      "OBJ:  -662.542422597\n",
      "OBJ:  -447.314482591\n",
      "OBJ:  -378.024263551\n",
      "OBJ:  -342.23809585"
     ]
    },
    {
     "name": "stderr",
     "output_type": "stream",
     "text": [
      "\r",
      "Processed 8500 ( 2.125% ) in 24.7 seconds"
     ]
    },
    {
     "name": "stdout",
     "output_type": "stream",
     "text": [
      "\n",
      "OBJ:  -321.612801937\n",
      "OBJ:  -308.981690683\n",
      "OBJ:  -300.993905208\n",
      "OBJ:  -295.909447033\n",
      "OBJ:  -292.746801519\n",
      "OBJ:  -290.915176529\n",
      "OBJ:  -290.040089458\n",
      "OBJ:  -289.874031007\n",
      "OBJ:  -290.247703286\n",
      "12 \n",
      "\n",
      "OBJ:  -683.038644143\n",
      "OBJ:  -441.455028062\n",
      "OBJ:  -374.319394056\n",
      "OBJ:  -341.552511087\n",
      "OBJ:  -322.718341967\n",
      "OBJ:  -311.178345753\n"
     ]
    },
    {
     "name": "stderr",
     "output_type": "stream",
     "text": [
      "\r",
      "Processed 9000 ( 2.250% ) in 26.2 seconds"
     ]
    },
    {
     "name": "stdout",
     "output_type": "stream",
     "text": [
      "OBJ:  -303.908088434\n",
      "OBJ:  -299.330761617\n",
      "OBJ:  -296.548098889\n",
      "OBJ:  -295.014672749\n",
      "OBJ:  -294.382508114\n",
      "OBJ:  -294.420556584\n",
      "11 \n",
      "\n",
      "OBJ:  -658.935688588\n",
      "OBJ:  -437.049172267\n",
      "OBJ:  -377.217769834\n",
      "OBJ:  -346.583787174\n",
      "OBJ:  -328.514722646\n",
      "OBJ:  -317.246127044\n",
      "OBJ: "
     ]
    },
    {
     "name": "stderr",
     "output_type": "stream",
     "text": [
      "\r",
      "Processed 9500 ( 2.375% ) in 27.7 seconds"
     ]
    },
    {
     "name": "stdout",
     "output_type": "stream",
     "text": [
      " -310.031066361\n",
      "OBJ:  -305.405468727\n",
      "OBJ:  -302.525087789\n",
      "OBJ:  -300.872363269\n",
      "OBJ:  -300.114116478\n",
      "OBJ:  -300.027181553\n",
      "OBJ:  -300.457116376\n",
      "12 \n",
      "\n",
      "OBJ:  -632.319938098\n",
      "OBJ:  -424.550749169\n",
      "OBJ:  -360.3903743\n"
     ]
    },
    {
     "name": "stderr",
     "output_type": "stream",
     "text": [
      "\r",
      "Processed 10000 ( 2.500% ) in 28.9 seconds"
     ]
    },
    {
     "name": "stdout",
     "output_type": "stream",
     "text": [
      "OBJ:  -328.581472884\n",
      "OBJ:  -310.331286882\n",
      "OBJ:  -299.160746623\n",
      "OBJ:  -292.121825077\n",
      "OBJ:  -287.68241006\n",
      "OBJ:  -284.973875632\n",
      "OBJ:  -283.470833848\n",
      "OBJ:  -282.83892045\n",
      "OBJ:  -282.856416784\n",
      "11 \n",
      "\n",
      "OBJ:  -654.733004041\n",
      "OBJ:  -444.053617419\n",
      "OBJ:  -375.363602268\n",
      "OBJ:  -338.954435006\n",
      "OBJ: "
     ]
    },
    {
     "name": "stderr",
     "output_type": "stream",
     "text": [
      "\r",
      "Processed 10500 ( 2.625% ) in 30.3 seconds"
     ]
    },
    {
     "name": "stdout",
     "output_type": "stream",
     "text": [
      " -317.809935237\n",
      "OBJ:  -304.769564391\n",
      "OBJ:  -296.449041884\n",
      "OBJ:  -291.082276122\n",
      "OBJ:  -287.674762945\n",
      "OBJ:  -285.628798787\n",
      "OBJ:  -284.565516669\n",
      "OBJ:  -284.234160863\n",
      "OBJ:  -284.462805483\n",
      "12 \n",
      "\n",
      "OBJ:  -654.143299715\n",
      "OBJ:  -434.07459793\n",
      "OBJ:  -365.776596479\n",
      "OBJ:  -331.584284397\n"
     ]
    },
    {
     "name": "stderr",
     "output_type": "stream",
     "text": [
      "\r",
      "Processed 11000 ( 2.750% ) in 31.6 seconds"
     ]
    },
    {
     "name": "stdout",
     "output_type": "stream",
     "text": [
      "OBJ:  -311.889373691\n",
      "OBJ:  -299.69749757\n",
      "OBJ:  -291.876682458\n",
      "OBJ:  -286.814110734\n",
      "OBJ:  -283.596439734\n",
      "OBJ:  -281.669802534\n",
      "OBJ:  -280.680330362\n",
      "OBJ:  -280.392384694\n",
      "OBJ:  -280.643685362\n",
      "12 \n",
      "\n",
      "OBJ:  -638.484728405\n",
      "OBJ:  -431.133705362\n",
      "OBJ:  -361.682237759\n",
      "OBJ: "
     ]
    },
    {
     "name": "stderr",
     "output_type": "stream",
     "text": [
      "\r",
      "Processed 11500 ( 2.875% ) in 32.8 seconds"
     ]
    },
    {
     "name": "stdout",
     "output_type": "stream",
     "text": [
      " -326.396672092\n",
      "OBJ:  -305.625698014\n",
      "OBJ:  -292.59030868\n",
      "OBJ:  -284.131784242\n",
      "OBJ:  -278.583429423\n",
      "OBJ:  -274.989213632\n",
      "OBJ:  -272.765109736\n",
      "OBJ:  -271.536228115\n",
      "OBJ:  -271.052123078\n",
      "OBJ:  -271.13991235\n",
      "12 \n",
      "\n",
      "OBJ:  -662.739626435\n",
      "OBJ:  -435.863079796\n",
      "OBJ:  -372.626009143\n",
      "OBJ: "
     ]
    },
    {
     "name": "stderr",
     "output_type": "stream",
     "text": [
      "\r",
      "Processed 12000 ( 3.000% ) in 34.2 seconds"
     ]
    },
    {
     "name": "stdout",
     "output_type": "stream",
     "text": [
      " -340.526146336\n",
      "OBJ:  -322.013833476\n",
      "OBJ:  -310.624143519\n",
      "OBJ:  -303.393432648\n",
      "OBJ:  -298.788343576\n",
      "OBJ:  -295.94085817\n",
      "OBJ:  -294.325095694\n",
      "OBJ:  -293.605227011\n",
      "OBJ:  -293.557595149\n",
      "OBJ:  -294.028075765\n",
      "12 \n",
      "\n",
      "OBJ:  -625.410200664\n",
      "OBJ:  -426.472287651\n",
      "OBJ:  -364.215216055\n",
      "OBJ: "
     ]
    },
    {
     "name": "stderr",
     "output_type": "stream",
     "text": [
      "\r",
      "Processed 12500 ( 3.125% ) in 35.4 seconds"
     ]
    },
    {
     "name": "stdout",
     "output_type": "stream",
     "text": [
      " -332.119043614\n",
      "OBJ:  -313.483599991\n",
      "OBJ:  -302.081524792\n",
      "OBJ:  -294.926818108\n",
      "OBJ:  -290.44171393\n",
      "OBJ:  -287.73035238\n",
      "OBJ:  -286.252389523\n",
      "OBJ:  -285.664922151\n",
      "OBJ:  -285.741036417\n",
      "11 \n",
      "\n",
      "OBJ:  -643.777484195\n",
      "OBJ:  -442.134016525\n",
      "OBJ: "
     ]
    },
    {
     "name": "stderr",
     "output_type": "stream",
     "text": [
      "\r",
      "Processed 13000 ( 3.250% ) in 36.8 seconds"
     ]
    },
    {
     "name": "stdout",
     "output_type": "stream",
     "text": [
      " -377.497767769\n",
      "OBJ:  -343.472592501\n",
      "OBJ:  -323.596378636\n",
      "OBJ:  -311.399164351\n",
      "OBJ:  -303.684463013\n",
      "OBJ:  -298.775462358\n",
      "OBJ:  -295.728356549\n",
      "OBJ:  -293.975111081\n",
      "OBJ:  -293.155225093\n",
      "OBJ:  -293.030071501\n",
      "OBJ:  -293.436186918\n",
      "12 \n",
      "\n",
      "OBJ:  -615.382839225\n",
      "OBJ:  -437.102037592\n",
      "OBJ:  "
     ]
    },
    {
     "name": "stderr",
     "output_type": "stream",
     "text": [
      "\r",
      "Processed 13500 ( 3.375% ) in 38.2 seconds"
     ]
    },
    {
     "name": "stdout",
     "output_type": "stream",
     "text": [
      "-377.362105514\n",
      "OBJ:  -345.964023346\n",
      "OBJ:  -327.461075101\n",
      "OBJ:  -316.067209297\n",
      "OBJ:  -308.903574613\n",
      "OBJ:  -304.415735403\n",
      "OBJ:  -301.711175719\n",
      "OBJ:  -300.248657481\n",
      "OBJ:  -299.683981564\n",
      "OBJ:  -299.789236337\n",
      "11 \n",
      "\n",
      "OBJ:  -624.592465757\n",
      "OBJ:  -430.092584515\n",
      "OBJ:  -367.38683844"
     ]
    },
    {
     "name": "stderr",
     "output_type": "stream",
     "text": [
      "\r",
      "Processed 14000 ( 3.500% ) in 39.6 seconds"
     ]
    },
    {
     "name": "stdout",
     "output_type": "stream",
     "text": [
      "\n",
      "OBJ:  -335.214218603\n",
      "OBJ:  -316.554649162\n",
      "OBJ:  -305.102715126\n",
      "OBJ:  -297.883644615\n",
      "OBJ:  -293.337884291\n",
      "OBJ:  -290.578231351\n",
      "OBJ:  -289.066058432\n",
      "OBJ:  -288.457274583\n",
      "OBJ:  -288.52295264\n",
      "11 \n",
      "\n",
      "OBJ:  -591.71779846\n",
      "OBJ:  -410.189077789\n",
      "OBJ:  -345.064611012\n",
      "OBJ:  -312.913395687\n",
      "OBJ:  -294.234848588\n",
      "OBJ:  -282.640421571\n",
      "OBJ:  -275.220908091\n",
      "OBJ:  -270.449194493\n",
      "OBJ:  -267.451788455\n",
      "OBJ:  -265.6963933\n",
      "OBJ:  -264.842174055\n",
      "OBJ:  -264.662009975\n"
     ]
    },
    {
     "name": "stderr",
     "output_type": "stream",
     "text": [
      "\r",
      "Processed 14500 ( 3.625% ) in 40.9 seconds"
     ]
    },
    {
     "name": "stdout",
     "output_type": "stream",
     "text": [
      "OBJ:  -264.999505267\n",
      "12 \n",
      "\n",
      "OBJ:  -650.600180725\n",
      "OBJ:  -439.593121861\n",
      "OBJ:  -382.224602157\n",
      "OBJ:  -352.501145637\n",
      "OBJ:  -335.329443722\n",
      "OBJ:  -324.888753185\n",
      "OBJ:  -318.415978623\n",
      "OBJ:  -314.453131896"
     ]
    },
    {
     "name": "stderr",
     "output_type": "stream",
     "text": [
      "\r",
      "Processed 15000 ( 3.750% ) in 42.2 seconds"
     ]
    },
    {
     "name": "stdout",
     "output_type": "stream",
     "text": [
      "\n",
      "OBJ:  -312.169669173\n",
      "OBJ:  -311.062240578\n",
      "OBJ:  -310.810004797\n",
      "OBJ:  -311.199847187\n",
      "11 \n",
      "\n",
      "OBJ:  -614.270973289\n",
      "OBJ:  -418.590966246\n",
      "OBJ:  -352.849263502\n",
      "OBJ:  -319.60467794\n",
      "OBJ:  -300.553994756\n",
      "OBJ:  -288.98863518\n",
      "OBJ:  -281.809528761\n",
      "OBJ:  -277.402592354\n",
      "OBJ:  -274.855598065\n"
     ]
    },
    {
     "name": "stderr",
     "output_type": "stream",
     "text": [
      "\r",
      "Processed 15500 ( 3.875% ) in 43.4 seconds"
     ]
    },
    {
     "name": "stdout",
     "output_type": "stream",
     "text": [
      "OBJ:  -273.620278901\n",
      "OBJ:  -273.35149133\n",
      "OBJ:  -273.824681421\n",
      "11 \n",
      "\n",
      "OBJ:  -645.488818926\n",
      "OBJ:  -439.12196638\n",
      "OBJ:  "
     ]
    },
    {
     "name": "stderr",
     "output_type": "stream",
     "text": [
      "\r",
      "Processed 16000 ( 4.000% ) in 45.0 seconds"
     ]
    },
    {
     "name": "stdout",
     "output_type": "stream",
     "text": [
      "-376.334196156\n",
      "OBJ:  -343.99454809\n",
      "OBJ:  -325.460117489\n",
      "OBJ:  -314.21612577\n",
      "OBJ:  -307.235798465\n",
      "OBJ:  -302.937288498\n",
      "OBJ:  -300.421903885\n",
      "OBJ:  -299.146168057\n",
      "OBJ:  -298.764704489\n",
      "OBJ:  -299.048945002\n",
      "11 \n",
      "\n",
      "OBJ:  -583.102216988\n",
      "OBJ:  -417.399898507\n",
      "OBJ:  -360.208749641"
     ]
    },
    {
     "name": "stderr",
     "output_type": "stream",
     "text": [
      "\r",
      "Processed 16500 ( 4.125% ) in 46.2 seconds"
     ]
    },
    {
     "name": "stdout",
     "output_type": "stream",
     "text": [
      "\n",
      "OBJ:  -330.541760803\n",
      "OBJ:  -313.23976153\n",
      "OBJ:  -302.591102408\n",
      "OBJ:  -295.897913139\n",
      "OBJ:  -291.732819429\n",
      "OBJ:  -289.27741063\n",
      "OBJ:  -288.032821914\n",
      "OBJ:  -287.679944072\n",
      "OBJ:  -288.006698198\n",
      "11 \n",
      "\n",
      "OBJ:  -646.507073447\n",
      "OBJ:  -436.095223518\n",
      "OBJ:  -372.964173899\n",
      "OBJ:  -342.322017814\n",
      "OBJ:  "
     ]
    },
    {
     "name": "stderr",
     "output_type": "stream",
     "text": [
      "\r",
      "Processed 17000 ( 4.250% ) in 47.3 seconds"
     ]
    },
    {
     "name": "stdout",
     "output_type": "stream",
     "text": [
      "-325.100320477\n",
      "OBJ:  -314.821156117\n",
      "OBJ:  -308.616611583\n",
      "OBJ:  -305.014238765\n",
      "OBJ:  -303.184286769\n",
      "OBJ:  -302.629533054\n",
      "OBJ:  -303.039856788\n",
      "10 \n",
      "\n",
      "OBJ:  -605.082834752\n",
      "OBJ:  -425.562727896\n",
      "OBJ:  -367.28795076\n",
      "OBJ: "
     ]
    },
    {
     "name": "stderr",
     "output_type": "stream",
     "text": [
      "\r",
      "Processed 17500 ( 4.375% ) in 48.5 seconds"
     ]
    },
    {
     "name": "stdout",
     "output_type": "stream",
     "text": [
      " -336.763472266\n",
      "OBJ:  -318.993809915\n",
      "OBJ:  -308.087407581\n",
      "OBJ:  -301.24709576\n",
      "OBJ:  -296.985625377\n",
      "OBJ:  -294.45019594\n",
      "OBJ:  -293.121688701\n",
      "OBJ:  -292.668281577\n",
      "OBJ:  -292.869190197\n",
      "11 \n",
      "\n",
      "OBJ:  -610.290444406\n",
      "OBJ:  -423.170134095\n",
      "OBJ:  -360.046228528\n",
      "OBJ:  -327.710965622\n",
      "OBJ:  -308.869855328\n",
      "OBJ:  -297.248946321\n",
      "OBJ:  -289.891739317\n",
      "OBJ:  -285.231825275\n",
      "OBJ:  -282.37334863\n",
      "OBJ:  "
     ]
    },
    {
     "name": "stderr",
     "output_type": "stream",
     "text": [
      "\r",
      "Processed 18000 ( 4.500% ) in 49.9 seconds"
     ]
    },
    {
     "name": "stdout",
     "output_type": "stream",
     "text": [
      "-280.772786487\n",
      "OBJ:  -280.083952017\n",
      "OBJ:  -280.077241743\n",
      "OBJ:  -280.595153385\n",
      "12 \n",
      "\n",
      "OBJ:  -597.072820419\n",
      "OBJ:  -426.22799837\n",
      "OBJ:  -369.371545007\n",
      "OBJ: "
     ]
    },
    {
     "name": "stderr",
     "output_type": "stream",
     "text": [
      "\r",
      "Processed 18500 ( 4.625% ) in 51.2 seconds"
     ]
    },
    {
     "name": "stdout",
     "output_type": "stream",
     "text": [
      " -339.685710065\n",
      "OBJ:  -322.678726406\n",
      "OBJ:  -312.415402916\n",
      "OBJ:  -306.094983945\n",
      "OBJ:  -302.257105587\n",
      "OBJ:  -300.074773864\n",
      "OBJ:  -299.048165889\n",
      "OBJ:  -298.859235653\n",
      "OBJ:  -299.297063924\n",
      "11 \n",
      "\n",
      "OBJ:  -656.399708032\n",
      "OBJ:  -435.147345861\n",
      "OBJ:  -376.379396893\n",
      "OBJ:  -347.771718398"
     ]
    },
    {
     "name": "stderr",
     "output_type": "stream",
     "text": [
      "\r",
      "Processed 19000 ( 4.750% ) in 52.6 seconds"
     ]
    },
    {
     "name": "stdout",
     "output_type": "stream",
     "text": [
      "\n",
      "OBJ:  -331.398323495\n",
      "OBJ:  -321.479330678\n",
      "OBJ:  -315.357289177\n",
      "OBJ:  -311.641310109\n",
      "OBJ:  -309.537692451\n",
      "OBJ:  -308.563598029\n",
      "OBJ:  -308.410353965\n",
      "OBJ:  -308.872623558\n",
      "11 \n",
      "\n"
     ]
    },
    {
     "ename": "KeyboardInterrupt",
     "evalue": "",
     "output_type": "error",
     "traceback": [
      "\u001b[0;31m---------------------------------------------------------------------------\u001b[0m",
      "\u001b[0;31mKeyboardInterrupt\u001b[0m                         Traceback (most recent call last)",
      "\u001b[0;32m<ipython-input-4-61cc8942e671>\u001b[0m in \u001b[0;36m<module>\u001b[0;34m()\u001b[0m\n\u001b[1;32m      1\u001b[0m \u001b[0mtrain\u001b[0m \u001b[0;34m=\u001b[0m \u001b[0;34m[\u001b[0m\u001b[0;34m(\u001b[0m\u001b[0musers\u001b[0m\u001b[0;34m[\u001b[0m\u001b[0ml\u001b[0m\u001b[0;34m[\u001b[0m\u001b[0;34m'userID'\u001b[0m\u001b[0;34m]\u001b[0m\u001b[0;34m]\u001b[0m\u001b[0;34m,\u001b[0m \u001b[0mitems\u001b[0m\u001b[0;34m[\u001b[0m\u001b[0ml\u001b[0m\u001b[0;34m[\u001b[0m\u001b[0;34m'businessID'\u001b[0m\u001b[0;34m]\u001b[0m\u001b[0;34m]\u001b[0m\u001b[0;34m)\u001b[0m \u001b[0;32mfor\u001b[0m \u001b[0ml\u001b[0m \u001b[0;32min\u001b[0m \u001b[0mdata\u001b[0m\u001b[0;34m[\u001b[0m\u001b[0;34m:\u001b[0m\u001b[0mlength\u001b[0m\u001b[0;34m]\u001b[0m\u001b[0;34m]\u001b[0m\u001b[0;34m\u001b[0m\u001b[0m\n\u001b[1;32m      2\u001b[0m \u001b[0mbpr\u001b[0m \u001b[0;34m=\u001b[0m \u001b[0mKNN\u001b[0m\u001b[0;34m(\u001b[0m\u001b[0mlen\u001b[0m\u001b[0;34m(\u001b[0m\u001b[0musers\u001b[0m\u001b[0;34m)\u001b[0m\u001b[0;34m,\u001b[0m \u001b[0mlen\u001b[0m\u001b[0;34m(\u001b[0m\u001b[0mitems\u001b[0m\u001b[0;34m)\u001b[0m\u001b[0;34m,\u001b[0m \u001b[0mlamI\u001b[0m \u001b[0;34m=\u001b[0m \u001b[0;36m4e-2\u001b[0m\u001b[0;34m,\u001b[0m \u001b[0mlamJ\u001b[0m \u001b[0;34m=\u001b[0m \u001b[0;36m4e-3\u001b[0m\u001b[0;34m,\u001b[0m \u001b[0mlearningRate\u001b[0m \u001b[0;34m=\u001b[0m \u001b[0;36m0.1\u001b[0m\u001b[0;34m)\u001b[0m\u001b[0;34m\u001b[0m\u001b[0m\n\u001b[0;32m----> 3\u001b[0;31m \u001b[0mbpr\u001b[0m\u001b[0;34m.\u001b[0m\u001b[0mtrain\u001b[0m\u001b[0;34m(\u001b[0m\u001b[0mtrain\u001b[0m\u001b[0;34m,\u001b[0m \u001b[0mepochs\u001b[0m\u001b[0;34m=\u001b[0m\u001b[0;36m2\u001b[0m\u001b[0;34m,\u001b[0m \u001b[0mbatchSize\u001b[0m\u001b[0;34m=\u001b[0m\u001b[0;36m500\u001b[0m\u001b[0;34m)\u001b[0m\u001b[0;34m\u001b[0m\u001b[0m\n\u001b[0m",
      "\u001b[0;32m<ipython-input-2-aab0b827b7e7>\u001b[0m in \u001b[0;36mtrain\u001b[0;34m(self, trainData, epochs, batchSize)\u001b[0m\n\u001b[1;32m     39\u001b[0m                 \u001b[0musers\u001b[0m\u001b[0;34m[\u001b[0m\u001b[0mitr\u001b[0m\u001b[0;34m*\u001b[0m\u001b[0mbatchSize\u001b[0m\u001b[0;34m:\u001b[0m \u001b[0;34m(\u001b[0m\u001b[0mitr\u001b[0m\u001b[0;34m+\u001b[0m\u001b[0;36m1\u001b[0m\u001b[0;34m)\u001b[0m\u001b[0;34m*\u001b[0m\u001b[0mbatchSize\u001b[0m\u001b[0;34m]\u001b[0m\u001b[0;34m,\u001b[0m\u001b[0;34m\u001b[0m\u001b[0m\n\u001b[1;32m     40\u001b[0m                 \u001b[0mpItems\u001b[0m\u001b[0;34m[\u001b[0m\u001b[0mitr\u001b[0m\u001b[0;34m*\u001b[0m\u001b[0mbatchSize\u001b[0m\u001b[0;34m:\u001b[0m \u001b[0;34m(\u001b[0m\u001b[0mitr\u001b[0m\u001b[0;34m+\u001b[0m\u001b[0;36m1\u001b[0m\u001b[0;34m)\u001b[0m\u001b[0;34m*\u001b[0m\u001b[0mbatchSize\u001b[0m\u001b[0;34m]\u001b[0m\u001b[0;34m,\u001b[0m\u001b[0;34m\u001b[0m\u001b[0m\n\u001b[0;32m---> 41\u001b[0;31m                 \u001b[0mnItems\u001b[0m\u001b[0;34m[\u001b[0m\u001b[0mitr\u001b[0m\u001b[0;34m*\u001b[0m\u001b[0mbatchSize\u001b[0m\u001b[0;34m:\u001b[0m \u001b[0;34m(\u001b[0m\u001b[0mitr\u001b[0m\u001b[0;34m+\u001b[0m\u001b[0;36m1\u001b[0m\u001b[0;34m)\u001b[0m\u001b[0;34m*\u001b[0m\u001b[0mbatchSize\u001b[0m\u001b[0;34m]\u001b[0m\u001b[0;34m\u001b[0m\u001b[0m\n\u001b[0m\u001b[1;32m     42\u001b[0m             )\n\u001b[1;32m     43\u001b[0m \u001b[0;34m\u001b[0m\u001b[0m\n",
      "\u001b[0;32m<ipython-input-2-aab0b827b7e7>\u001b[0m in \u001b[0;36m_mbgd\u001b[0;34m(self, users, pItems, nItems)\u001b[0m\n\u001b[1;32m     68\u001b[0m                     \u001b[0;32mif\u001b[0m \u001b[0ml\u001b[0m \u001b[0;34m!=\u001b[0m \u001b[0mi\u001b[0m\u001b[0;34m:\u001b[0m\u001b[0;34m\u001b[0m\u001b[0m\n\u001b[1;32m     69\u001b[0m                         \u001b[0mgradientC\u001b[0m\u001b[0;34m[\u001b[0m\u001b[0;34m(\u001b[0m\u001b[0mi\u001b[0m\u001b[0;34m,\u001b[0m\u001b[0ml\u001b[0m\u001b[0;34m)\u001b[0m\u001b[0;34m]\u001b[0m \u001b[0;34m+=\u001b[0m \u001b[0;34m(\u001b[0m\u001b[0;36m1\u001b[0m\u001b[0;34m-\u001b[0m\u001b[0mself\u001b[0m\u001b[0;34m.\u001b[0m\u001b[0msigmoid\u001b[0m\u001b[0;34m(\u001b[0m\u001b[0mx_uij\u001b[0m\u001b[0;34m)\u001b[0m\u001b[0;34m)\u001b[0m \u001b[0;34m+\u001b[0m \u001b[0mself\u001b[0m\u001b[0;34m.\u001b[0m\u001b[0m_lamI\u001b[0m \u001b[0;34m*\u001b[0m \u001b[0mself\u001b[0m\u001b[0;34m.\u001b[0m\u001b[0mC\u001b[0m\u001b[0;34m[\u001b[0m\u001b[0mi\u001b[0m\u001b[0;34m]\u001b[0m\u001b[0;34m[\u001b[0m\u001b[0ml\u001b[0m\u001b[0;34m]\u001b[0m\u001b[0;34m**\u001b[0m\u001b[0;36m2\u001b[0m\u001b[0;34m\u001b[0m\u001b[0m\n\u001b[0;32m---> 70\u001b[0;31m                         \u001b[0mgradientC\u001b[0m\u001b[0;34m[\u001b[0m\u001b[0;34m(\u001b[0m\u001b[0ml\u001b[0m\u001b[0;34m,\u001b[0m\u001b[0mi\u001b[0m\u001b[0;34m)\u001b[0m\u001b[0;34m]\u001b[0m \u001b[0;34m+=\u001b[0m \u001b[0;34m(\u001b[0m\u001b[0;36m1\u001b[0m\u001b[0;34m-\u001b[0m\u001b[0mself\u001b[0m\u001b[0;34m.\u001b[0m\u001b[0msigmoid\u001b[0m\u001b[0;34m(\u001b[0m\u001b[0mx_uij\u001b[0m\u001b[0;34m)\u001b[0m\u001b[0;34m)\u001b[0m \u001b[0;34m+\u001b[0m \u001b[0mself\u001b[0m\u001b[0;34m.\u001b[0m\u001b[0m_lamI\u001b[0m \u001b[0;34m*\u001b[0m \u001b[0mself\u001b[0m\u001b[0;34m.\u001b[0m\u001b[0mC\u001b[0m\u001b[0;34m[\u001b[0m\u001b[0ml\u001b[0m\u001b[0;34m]\u001b[0m\u001b[0;34m[\u001b[0m\u001b[0mi\u001b[0m\u001b[0;34m]\u001b[0m\u001b[0;34m**\u001b[0m\u001b[0;36m2\u001b[0m\u001b[0;34m\u001b[0m\u001b[0m\n\u001b[0m\u001b[1;32m     71\u001b[0m                     \u001b[0mgradientC\u001b[0m\u001b[0;34m[\u001b[0m\u001b[0;34m(\u001b[0m\u001b[0mj\u001b[0m\u001b[0;34m,\u001b[0m\u001b[0ml\u001b[0m\u001b[0;34m)\u001b[0m\u001b[0;34m]\u001b[0m \u001b[0;34m+=\u001b[0m \u001b[0;34m-\u001b[0m\u001b[0;34m(\u001b[0m\u001b[0;36m1\u001b[0m\u001b[0;34m-\u001b[0m\u001b[0mself\u001b[0m\u001b[0;34m.\u001b[0m\u001b[0msigmoid\u001b[0m\u001b[0;34m(\u001b[0m\u001b[0mx_uij\u001b[0m\u001b[0;34m)\u001b[0m\u001b[0;34m)\u001b[0m \u001b[0;34m+\u001b[0m \u001b[0mself\u001b[0m\u001b[0;34m.\u001b[0m\u001b[0m_lamJ\u001b[0m \u001b[0;34m*\u001b[0m \u001b[0mself\u001b[0m\u001b[0;34m.\u001b[0m\u001b[0mC\u001b[0m\u001b[0;34m[\u001b[0m\u001b[0mj\u001b[0m\u001b[0;34m]\u001b[0m\u001b[0;34m[\u001b[0m\u001b[0ml\u001b[0m\u001b[0;34m]\u001b[0m\u001b[0;34m**\u001b[0m\u001b[0;36m2\u001b[0m\u001b[0;34m\u001b[0m\u001b[0m\n\u001b[1;32m     72\u001b[0m                     \u001b[0mgradientC\u001b[0m\u001b[0;34m[\u001b[0m\u001b[0;34m(\u001b[0m\u001b[0ml\u001b[0m\u001b[0;34m,\u001b[0m\u001b[0mj\u001b[0m\u001b[0;34m)\u001b[0m\u001b[0;34m]\u001b[0m \u001b[0;34m+=\u001b[0m \u001b[0;34m-\u001b[0m\u001b[0;34m(\u001b[0m\u001b[0;36m1\u001b[0m\u001b[0;34m-\u001b[0m\u001b[0mself\u001b[0m\u001b[0;34m.\u001b[0m\u001b[0msigmoid\u001b[0m\u001b[0;34m(\u001b[0m\u001b[0mx_uij\u001b[0m\u001b[0;34m)\u001b[0m\u001b[0;34m)\u001b[0m \u001b[0;34m+\u001b[0m \u001b[0mself\u001b[0m\u001b[0;34m.\u001b[0m\u001b[0m_lamJ\u001b[0m \u001b[0;34m*\u001b[0m \u001b[0mself\u001b[0m\u001b[0;34m.\u001b[0m\u001b[0mC\u001b[0m\u001b[0;34m[\u001b[0m\u001b[0ml\u001b[0m\u001b[0;34m]\u001b[0m\u001b[0;34m[\u001b[0m\u001b[0mj\u001b[0m\u001b[0;34m]\u001b[0m\u001b[0;34m**\u001b[0m\u001b[0;36m2\u001b[0m\u001b[0;34m\u001b[0m\u001b[0m\n",
      "\u001b[0;31mKeyboardInterrupt\u001b[0m: "
     ]
    }
   ],
   "source": [
    "train = [(users[l['userID']], items[l['businessID']]) for l in data[:length]]   \n",
    "bpr = KNN(len(users), len(items), lamI = 4e-2, lamJ = 4e-3, learningRate = 0.1)\n",
    "bpr.train(train, epochs=2, batchSize=500)"
   ]
  },
  {
   "cell_type": "code",
   "execution_count": null,
   "metadata": {},
   "outputs": [],
   "source": [
    "predictions = open(\"predictions_Visit.txt\", 'w')\n",
    "cnt = 0\n",
    "for l in open(\"pairs_Visit.txt\"):\n",
    "    cnt += 1\n",
    "    if l.startswith(\"userID\"):\n",
    "    #header\n",
    "        predictions.write(l)\n",
    "        continue\n",
    "    u,i = l.strip().split('-')\n",
    "    if u not in users:  #no history of user, use popularity\n",
    "        if i in return1:\n",
    "            predictions.write(u + '-' + i + \",1\\n\")\n",
    "        else:\n",
    "            predictions.write(u + '-' + i + \",0\\n\")\n",
    "        continue\n",
    "        \n",
    "    if i not in items:   #no one visited before\n",
    "        predictions.write(u + '-' + i + \",0\\n\")\n",
    "        continue\n",
    "        \n",
    "    #scores = bpr.predictionsKNN(10, users[u])\n",
    "    scores = bpr.predictionsAll(users[u])\n",
    "    #thrhd = sorted(scores)[len(items)*7/10]\n",
    "    score = scores[items[i]]\n",
    "    \n",
    "    num = len([1 for x in scores if x > score])\n",
    "\n",
    "    #if score >= thrhd:\n",
    "    if num < len(scores)*30/100:\n",
    "        predictions.write(u + '-' + i + \",1\\n\")\n",
    "    else:\n",
    "        predictions.write(u + '-' + i + \",0\\n\")\n",
    "        \n",
    "    sys.stderr.write(\"\\rProcessed %s\" %(str(cnt)))\n",
    "    sys.stderr.flush()\n",
    "predictions.close()"
   ]
  },
  {
   "cell_type": "code",
   "execution_count": null,
   "metadata": {
    "collapsed": true
   },
   "outputs": [],
   "source": []
  },
  {
   "cell_type": "code",
   "execution_count": 20,
   "metadata": {},
   "outputs": [
    {
     "data": {
      "text/plain": [
       "18644"
      ]
     },
     "execution_count": 20,
     "metadata": {},
     "output_type": "execute_result"
    }
   ],
   "source": [
    "cnt = 0\n",
    "for l in open(\"predictions_Visit.txt\", 'r'):\n",
    "    if l.startswith(\"userID\"):\n",
    "    #header\n",
    "        continue\n",
    "    _, y = l.strip().split(',')\n",
    "    if y == '1':\n",
    "        cnt += 1\n",
    "cnt"
   ]
  },
  {
   "cell_type": "code",
   "execution_count": null,
   "metadata": {
    "collapsed": true
   },
   "outputs": [],
   "source": []
  },
  {
   "cell_type": "code",
   "execution_count": null,
   "metadata": {
    "collapsed": true
   },
   "outputs": [],
   "source": []
  },
  {
   "cell_type": "code",
   "execution_count": null,
   "metadata": {
    "collapsed": true
   },
   "outputs": [],
   "source": []
  },
  {
   "cell_type": "code",
   "execution_count": null,
   "metadata": {
    "collapsed": true
   },
   "outputs": [],
   "source": []
  },
  {
   "cell_type": "code",
   "execution_count": null,
   "metadata": {
    "collapsed": true
   },
   "outputs": [],
   "source": []
  },
  {
   "cell_type": "code",
   "execution_count": null,
   "metadata": {
    "collapsed": true
   },
   "outputs": [],
   "source": []
  },
  {
   "cell_type": "code",
   "execution_count": null,
   "metadata": {
    "collapsed": true
   },
   "outputs": [],
   "source": []
  },
  {
   "cell_type": "code",
   "execution_count": 19,
   "metadata": {},
   "outputs": [
    {
     "name": "stderr",
     "output_type": "stream",
     "text": [
      "Processed 40001"
     ]
    }
   ],
   "source": [
    "# predict with users' thrhd\n",
    "predictions = open(\"predictions_Visit.txt\", 'w')\n",
    "cnt = 0\n",
    "for l in open(\"pairs_Visit.txt\"):\n",
    "    cnt += 1\n",
    "    if l.startswith(\"userID\"):\n",
    "    #header\n",
    "        predictions.write(l)\n",
    "        continue\n",
    "    u,i = l.strip().split('-')\n",
    "    if u not in users:  #no history of user, use popularity\n",
    "        if i in return1:\n",
    "            predictions.write(u + '-' + i + \",1\\n\")\n",
    "        else:\n",
    "            predictions.write(u + '-' + i + \",0\\n\")\n",
    "        continue\n",
    "        \n",
    "    if i not in items:   #no one visited before\n",
    "        predictions.write(u + '-' + i + \",0\\n\")\n",
    "        continue\n",
    "        \n",
    "    scores = pred(users[u])\n",
    "    thrhd = min([scores[items[it]] for it in Iu[u]])\n",
    "    \n",
    "    if scores[items[i]] >= thrhd:\n",
    "        predictions.write(u + '-' + i + \",1\\n\")\n",
    "    else:\n",
    "        predictions.write(u + '-' + i + \",0\\n\")\n",
    "        \n",
    "    sys.stderr.write(\"\\rProcessed %s\" %(str(cnt)))\n",
    "    sys.stderr.flush()\n",
    "predictions.close()"
   ]
  },
  {
   "cell_type": "code",
   "execution_count": null,
   "metadata": {
    "collapsed": true
   },
   "outputs": [],
   "source": []
  },
  {
   "cell_type": "code",
   "execution_count": null,
   "metadata": {
    "collapsed": true
   },
   "outputs": [],
   "source": [
    "from theano_bpr import BPR\n",
    "import theano\n",
    "import theano.tensor as T\n",
    "from theano import function, config, shared, sandbox  "
   ]
  },
  {
   "cell_type": "code",
   "execution_count": null,
   "metadata": {
    "collapsed": true
   },
   "outputs": [],
   "source": [
    "length = len(data)*10/11\n",
    "users = set()\n",
    "items = set()\n",
    "visited = set()\n",
    "businessCount = defaultdict(int)\n",
    "\n",
    "for l in data[:length]:\n",
    "    user,business = l['userID'],l['businessID']\n",
    "    users.add(user)  \n",
    "    items.add(business)\n",
    "    visited.add((user, business))  #visited pair\n",
    "    businessCount[business] += 1\n",
    "    \n",
    "mostPopular = [(businessCount[x], x) for x in businessCount]\n",
    "mostPopular.sort()\n",
    "mostPopular.reverse()\n",
    "\n",
    "return1 = set()\n",
    "count = 0\n",
    "for ic, i in mostPopular:\n",
    "    count += ic\n",
    "    return1.add(i)\n",
    "    if count*1.0/length > 0.571: \n",
    "        break\n",
    "\n",
    "users = list(users)\n",
    "items = list(items)\n",
    "Iu = defaultdict(set)\n",
    "Ui = defaultdict(set)\n",
    "for l in data[:length]:\n",
    "    Iu[l['userID']].add(l['businessID'])\n",
    "    Ui[l['businessID']].add(l['userID'])\n",
    "    \n",
    "unvisited = set()\n",
    "while len(unvisited) < len(data)-length:    \n",
    "    user = users[random.randint(0,len(users)-1)]\n",
    "    item = items[random.randint(0,len(items)-1)]\n",
    "    if item not in Iu[user]:\n",
    "        unvisited.add((user, item))\n",
    "    \n",
    "users = {value:key for key, value in enumerate(users)}\n",
    "items = {value:key for key, value in enumerate(items)}"
   ]
  },
  {
   "cell_type": "code",
   "execution_count": null,
   "metadata": {
    "collapsed": true
   },
   "outputs": [],
   "source": [
    "from theano_bpr import BPR\n",
    "train = [(users[l['userID']], items[l['businessID']]) for l in data[:length]]   \n",
    "for U in [1e-4,1e-3,0.1]:\n",
    "    for I in [1e-4,1e-3,0.1]:\n",
    "        for J in [1e-4,1e-3,0.1]:\n",
    "            for bias in [0.1,1,3]:\n",
    "                bpr = BPR(5, len(users), len(items), lambda_u = U, lambda_i = I, lambda_j = J, lambda_bias = bias)\n",
    "                bpr.train(train, epochs=150, batch_size=1000)\n",
    "                \n",
    "                print U,I,J,bias\n",
    "                cnt = 0\n",
    "                for l in data[length:]:\n",
    "                    u,i = l['userID'], l['businessID']\n",
    "                    if u not in users:  #no history of user, use popularity\n",
    "                        if i in return1:\n",
    "                            cnt += 1\n",
    "                        continue\n",
    "\n",
    "                    if i not in items:   #no one visited before\n",
    "                        continue\n",
    "\n",
    "                    scores = bpr.predictions(users[u])\n",
    "                    thrhd = min([scores[items[it]] for it in Iu[u]])\n",
    "\n",
    "                    if scores[items[i]] >= thrhd:\n",
    "                        cnt += 1\n",
    "                ac = cnt*1.0/(len(data)-length)\n",
    "                print \"acr posi: \" + str(ac),\n",
    "                cnt = 0\n",
    "                for u,i in unvisited:\n",
    "                    \n",
    "                    if u not in users:  #no history of user, use popularity\n",
    "                        if i not in return1:\n",
    "                            cnt += 1\n",
    "                        continue\n",
    "\n",
    "                    if i not in items:   #no one visited before\n",
    "                        cnt += 1\n",
    "                        continue\n",
    "\n",
    "                    scores = bpr.predictions(users[u])\n",
    "                    thrhd = min([scores[items[it]] for it in Iu[u]])\n",
    "\n",
    "                    if scores[items[i]] < thrhd:\n",
    "                        cnt += 1\n",
    "                print \"acr nega: \" + str(cnt*1.0/len(unvisited)),\n",
    "                print 'avr: ' + str((ac+cnt*1.0/len(unvisited))/2.0)"
   ]
  }
 ],
 "metadata": {
  "kernelspec": {
   "display_name": "Python 2",
   "language": "python",
   "name": "python2"
  },
  "language_info": {
   "codemirror_mode": {
    "name": "ipython",
    "version": 2
   },
   "file_extension": ".py",
   "mimetype": "text/x-python",
   "name": "python",
   "nbconvert_exporter": "python",
   "pygments_lexer": "ipython2",
   "version": "2.7.13"
  }
 },
 "nbformat": 4,
 "nbformat_minor": 2
}
